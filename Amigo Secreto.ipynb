{
 "cells": [
  {
   "cell_type": "markdown",
   "metadata": {},
   "source": [
    "# Sorteio de amigo secreto\n",
    "\n",
    "Este programa recebe um dicionário com a chave sendo o conjunto de participantes, e no conteúdo o e-mail do participante, o grupo familiar, e uma indicadora se é criança ou não (que eu não usei ainda).\n",
    "\n",
    "- O programa sorteia as pessoas\n",
    "- Você pode configurar se permite ou não sorteios dentro do grupo familiar\n",
    "- O programa envia um e-mail para cada participante com o resultado através da sua conta do GMail."
   ]
  },
  {
   "cell_type": "markdown",
   "metadata": {},
   "source": [
    "## Teste do envio de e-mail\n",
    "\n",
    "O primeiro passo é abrir uma sessão na sua conta G-Mail. Pra isso, você vai precisar de uma senha de app do gmail.\n",
    "\n",
    "Para criar a sua senha de app faça o seguinte:\n",
    "\n",
    "1. Acesse sua Conta do Google > Segurança\n",
    "2. Em \"Como fazer login no Google\", selecione Senhas de app\n",
    "3. Na parte inferior, escolha Selecionar app e escolha o app que você está usando e escolha Selecionar dispositivo e escolha o dispositivo que você está usando e Gerar\n",
    "4. Siga as instruções para inserir a senha de app. Ela é o código de 16 caracteres na barra amarela do seu dispositivo.\n",
    "5. Toque em Concluído.\n",
    "\n",
    "Em caso de problemas acesse [aqui](https://support.google.com/accounts/answer/185833?p=InvalidSecondFactor&visit_id=637737806610866570-556942547&rd=1)\n",
    "\n",
    "Esse script abaixo testa a conexão:"
   ]
  },
  {
   "cell_type": "code",
   "execution_count": 257,
   "metadata": {},
   "outputs": [
    {
     "name": "stdout",
     "output_type": "stream",
     "text": [
      "Mensagem enviada de sua_conta@gmail.com para destinatario@gmail.com\n"
     ]
    }
   ],
   "source": [
    "import smtplib\n",
    "from email.mime.multipart import MIMEMultipart\n",
    "from email.mime.text import MIMEText\n",
    "mail_content = '''Hello,\n",
    "This is a simple mail. There is only text, no attachments are there The mail is sent using Python SMTP library.\n",
    "Thank You\n",
    "'''\n",
    "#Senha do seu g-mail - a senha de app que vc configurou na célula acima\n",
    "sender_pass = '************' # é aqui que você cola a senha de app do passo acima\n",
    "\n",
    "#Dados de endereço a enviar, endereço do remetente, etc\n",
    "message = MIMEMultipart()\n",
    "\n",
    "message['From'] = 'sua_conta@gmail.com' # claro que você vai precisar colocar um endereço válido aqui\n",
    "message['To'] = 'destinatario@gmail.com'# claro que você vai precisar colocar um endereço válido aqui\n",
    "message['Subject'] = 'A test mail sent by Python. It has an attachment.'   #The subject line\n",
    "\n",
    "#Corpo do e-mail\n",
    "message.attach(MIMEText(mail_content, 'plain'))\n",
    "\n",
    "#Criar uma sessão SMTP\n",
    "try:\n",
    "    session = smtplib.SMTP('smtp.gmail.com', 587) #use gmail with port\n",
    "    session.starttls() #enable security\n",
    "    session.login(sender_address, sender_pass) #login with mail_id and password\n",
    "\n",
    "    session.sendmail(sender_address, receiver_address, message.as_string())\n",
    "    session.quit()\n",
    "    print('Mensagem enviada de {0} para {1}'.format(message['From'], message['to']))\n",
    "except:\n",
    "    print('Deu algo errado com a conexão')\n",
    "\n"
   ]
  },
  {
   "cell_type": "markdown",
   "metadata": {},
   "source": [
    "## Lista de participantes\n",
    "\n",
    "Aqui vamos criar um dicionário onde as chaves são os nomes dos participantes. O valor correspondente é uma lista com os dados nessa ordem:\n",
    "\n",
    "- e-mail do participante\n",
    "- grupo familiar (pode ser um string, um número etc...)\n",
    "- um booleano indicando se é adulto ou criança (não estou usando ainda...)"
   ]
  },
  {
   "cell_type": "code",
   "execution_count": 258,
   "metadata": {},
   "outputs": [
    {
     "data": {
      "text/plain": [
       "{'João': ['participante1@gmail.com', 1, True],\n",
       " 'Gisélia': ['participante2@gmail.com', 1, True],\n",
       " 'Ian': ['participante3@gmail.com', 1, False],\n",
       " 'Alice': ['participante4@gmail.com', 1, False],\n",
       " 'Olivia': ['participante5@gmail.com', 1, False],\n",
       " 'Pedro': ['participante6@gmail.com', 2, True],\n",
       " 'Themis': ['participante7@gmail.com', 2, True],\n",
       " 'Felipe': ['participante8@gmail.com', 2, False],\n",
       " 'Nico': ['participante9@gmail.com', 2, False],\n",
       " 'Mariana': ['participante10@gmail.com', 3, True],\n",
       " 'Alberto': ['participante11@alopes.com', 3, True],\n",
       " 'Luisa': ['participante12@gmail.com', 3, False],\n",
       " 'Teresa': ['participante13@gmail.com', 3, False],\n",
       " 'Vovó Ana': ['participante14@ama.org.br', 4, True],\n",
       " 'Vovô Samuel': ['participante15@gmail.com', 4, True],\n",
       " 'Tio Gui': ['participante16@gmail.com', 4, True]}"
      ]
     },
     "execution_count": 258,
     "metadata": {},
     "output_type": "execute_result"
    }
   ],
   "source": [
    "amigo_secreto = {'João': ['participante1@gmail.com', 1, True],\n",
    "                 'Gisélia': ['participante2@gmail.com', 1, True],\n",
    "                 'Ian': ['participante3@gmail.com', 1, False],\n",
    "                 'Alice': ['participante4@gmail.com', 1, False],\n",
    "                 'Olivia': ['participante5@gmail.com',1,False],\n",
    "                 \n",
    "                 'Pedro': ['participante6@gmail.com', 2, True],\n",
    "                 'Themis': ['participante7@gmail.com',2,True],\n",
    "                 'Felipe': ['participante8@gmail.com',2,False],\n",
    "                 'Nico': ['participante9@gmail.com',2,False],\n",
    "                 \n",
    "                 'Mariana': ['participante10@gmail.com',3,True],\n",
    "                 'Alberto': ['participante11@alopes.com',3,True],\n",
    "                 'Luisa': ['participante12@gmail.com',3,False],\n",
    "                 'Teresa': ['participante13@gmail.com',3,False],\n",
    "                 \n",
    "                 'Vovó Ana': ['participante14@ama.org.br',4,True],\n",
    "                 'Vovô Samuel': ['participante15@gmail.com',4,True],\n",
    "                 'Tio Gui': ['participante16@gmail.com',4,True]\n",
    "                }\n",
    "import copy\n",
    "\n",
    "am_sec = copy.deepcopy(amigo_secreto)\n",
    "amigo_secreto"
   ]
  },
  {
   "cell_type": "markdown",
   "metadata": {},
   "source": [
    "## Montagem dos grupos familiares\n",
    "\n",
    "Essa etapa monta os grupos familiares como um dicionário, com a chave sendo o identificador do grupo que está no dicionáiro acima, e o valor é um *set* contendo os participantes.\n",
    "\n",
    "Vai ser usado para garantir que a pessoa não sorteie alguém do grupo familiar (caso se deseje esta configuração)."
   ]
  },
  {
   "cell_type": "code",
   "execution_count": 116,
   "metadata": {},
   "outputs": [
    {
     "data": {
      "text/plain": [
       "{'Alice', 'Gisélia', 'Ian', 'João', 'Olivia'}"
      ]
     },
     "execution_count": 116,
     "metadata": {},
     "output_type": "execute_result"
    }
   ],
   "source": [
    "# monta os grupos familiares em conjuntos\n",
    "grupos = {}\n",
    "\n",
    "for pessoa in amigo_secreto.keys():\n",
    "    grupo = amigo_secreto[pessoa][1]\n",
    "    if grupo in grupos.keys():\n",
    "        grupos[grupo].add(pessoa)\n",
    "    else: grupos[grupo] = {pessoa}\n",
    "\n",
    "grupos[1]\n",
    "    "
   ]
  },
  {
   "cell_type": "markdown",
   "metadata": {},
   "source": [
    "## Sorteio das pessoas\n",
    "\n",
    "Agora vamos sortear as pessoas.\n",
    "\n",
    "Tem essa opção ```autosorteio = False```. Se ela for ```False``` não será possível uma pessoa \"se tirar\".\n",
    "```DentroDoGrupo = False``` não vai permitir sorteios dentro do grupo familiar.\n",
    "\n",
    "O resultado do sorteio vai ficar armazenado na 4a posição da lista correspondente a cada chave do dicionário ```amigo_secreto```. Bem, se eu sofisticar mais você certamente vai conseguir rackear, mas eu sei que você não vai querer abrir esse dicionário mesmo, afinal estraga a graça né? ;)"
   ]
  },
  {
   "cell_type": "code",
   "execution_count": 242,
   "metadata": {},
   "outputs": [
    {
     "name": "stdout",
     "output_type": "stream",
     "text": [
      "False\n",
      "cont - 0\n"
     ]
    }
   ],
   "source": [
    "import random\n",
    "\n",
    "autosorteio=False\n",
    "DentroDoGrupo=False\n",
    "\n",
    "urna = set(amigo_secreto.keys())\n",
    "\n",
    "resortear = True\n",
    "cont=0\n",
    "\n",
    "while resortear == True:\n",
    "    amigo_secreto = copy.deepcopy(am_sec)\n",
    "    urna = set(amigo_secreto.keys())\n",
    "    resortear=False\n",
    "    \n",
    "    for pessoa in amigo_secreto.keys():\n",
    "        # Monta a urna válida    \n",
    "        urna_valida = urna.copy()\n",
    "        urna_valida.discard(pessoa)\n",
    "\n",
    "        # Remove da urna válida pessoas do grupo caso opção ativa\n",
    "        if DentroDoGrupo==False:\n",
    "            num_grupo = amigo_secreto[pessoa][1]\n",
    "            grupo = grupos[num_grupo]\n",
    "            urna_valida = urna_valida - grupo\n",
    "\n",
    "        #Sorteia o 'papelzinho'\n",
    "        if len(urna_valida)>0:\n",
    "            papelzinho = random.sample(urna_valida,1)[0]\n",
    "            urna.discard(papelzinho)\n",
    "        else: \n",
    "            resortear = True\n",
    "            cont+=1\n",
    "        amigo_secreto[pessoa].append(papelzinho)\n",
    "        papelzinho='branco'\n",
    "\n",
    "print(resortear)\n",
    "print(f'cont - {cont}')\n",
    "\n",
    "# print(f'{pessoa} - {papelzinho}')\n"
   ]
  },
  {
   "cell_type": "markdown",
   "metadata": {},
   "source": [
    "## Comunicar o sorteio\n",
    "\n",
    "Agora vamos estabelecer uma comunicação com o seu gmail, em seguida vamos enviar todos os e-mails, e desligar a conexão.\n",
    "\n",
    "Essa função abaixo estará dentro do loop, com a comunicação aberta fora dela. Ela recebe:\n",
    "\n",
    "- fulano - email de \"quem tirou o papelzinho da urna\"\n",
    "- email_fulano - o email do fulano que tirou o papelzinho da urna\n",
    "- siclano - o nome do siclano que o fulano tirou\n",
    "\n",
    "Tem uma mensagem em \"código duro\", que é enviada a cada pessoa indicando quem ela tirou."
   ]
  },
  {
   "cell_type": "code",
   "execution_count": 250,
   "metadata": {},
   "outputs": [],
   "source": [
    "def comunica_sorteio(fulano, email_fulano, siclano):\n",
    "    mail_content = '''Olá, {0}!\n",
    "    Essa é uma mensagem do seu amigo secreto! Você tirou...\n",
    "\n",
    "    O nome da pessoa que você tirou é...\n",
    "    \n",
    "    é...:\n",
    "\n",
    "    *** {1} ***\n",
    "    \n",
    "    Boas festas!!!\n",
    "    '''\n",
    "    #E-mail e senha da conta que vai enviar\n",
    "    sender_address = 'juka42@gmail.com'\n",
    "    receiver_address = amigo_secreto[fulano][0]\n",
    "    sender_pass = 'oolvlvqoqnbndrmd'\n",
    "\n",
    "    #Configurar o MIME\n",
    "    message = MIMEMultipart()\n",
    "    message['From'] = sender_address\n",
    "    message['To'] = receiver_address\n",
    "    message['Subject'] = 'Amigo Secreto (by Juka)'   #Linha de assunto\n",
    "    \n",
    "    # O corpo do texto\n",
    "    message.attach(MIMEText(mail_content.format(fulano, siclano), 'plain'))\n",
    "    \n",
    "    text = message.as_string() #mensagem com todos os elementos em formato texto\n",
    "\n",
    "    session.sendmail(sender_address, receiver_address, text) #envia o e-mail\n",
    "    # fim da sessão\n",
    "#     session.quit() # encerra a sessão\n",
    "    print('E-mail enviado de {0} para {1} - {2}'.format(sender_address, sender_address, fulano))\n",
    "    \n"
   ]
  },
  {
   "cell_type": "markdown",
   "metadata": {},
   "source": [
    "Aqui estabelecemos a conexão e fazemos o loop dentre todos os participantes, indicando quem ele tirou."
   ]
  },
  {
   "cell_type": "code",
   "execution_count": 251,
   "metadata": {},
   "outputs": [
    {
     "name": "stdout",
     "output_type": "stream",
     "text": [
      "E-mail enviado de juka42@gmail.com para juka42@gmail.com - João\n",
      "E-mail enviado de juka42@gmail.com para juka42@gmail.com - Gisélia\n",
      "E-mail enviado de juka42@gmail.com para juka42@gmail.com - Ian\n",
      "E-mail enviado de juka42@gmail.com para juka42@gmail.com - Alice\n",
      "E-mail enviado de juka42@gmail.com para juka42@gmail.com - Olivia\n",
      "E-mail enviado de juka42@gmail.com para juka42@gmail.com - Pedro\n",
      "E-mail enviado de juka42@gmail.com para juka42@gmail.com - Themis\n",
      "E-mail enviado de juka42@gmail.com para juka42@gmail.com - Felipe\n",
      "E-mail enviado de juka42@gmail.com para juka42@gmail.com - Nico\n",
      "E-mail enviado de juka42@gmail.com para juka42@gmail.com - Mariana\n",
      "E-mail enviado de juka42@gmail.com para juka42@gmail.com - Alberto\n",
      "E-mail enviado de juka42@gmail.com para juka42@gmail.com - Luisa\n",
      "E-mail enviado de juka42@gmail.com para juka42@gmail.com - Teresa\n",
      "E-mail enviado de juka42@gmail.com para juka42@gmail.com - Vovó Ana\n",
      "E-mail enviado de juka42@gmail.com para juka42@gmail.com - Vovô Samuel\n",
      "E-mail enviado de juka42@gmail.com para juka42@gmail.com - Tio Gui\n"
     ]
    },
    {
     "data": {
      "text/plain": [
       "(221, b'2.0.0 closing connection r2sm8247340vsk.28 - gsmtp')"
      ]
     },
     "execution_count": 251,
     "metadata": {},
     "output_type": "execute_result"
    }
   ],
   "source": [
    "session = smtplib.SMTP('smtp.gmail.com', 587) #Usar porta do gmail\n",
    "session.starttls() #Habilitar segurança\n",
    "session.login(sender_address, sender_pass) #Login com e-mail e senha\n",
    "\n",
    "for pessoa in amigo_secreto.keys():\n",
    "    comunica_sorteio(pessoa, amigo_secreto[pessoa][0], amigo_secreto[pessoa][3])\n",
    "    \n",
    "session.quit()"
   ]
  }
 ],
 "metadata": {
  "kernelspec": {
   "display_name": "Python 3",
   "language": "python",
   "name": "python3"
  },
  "language_info": {
   "codemirror_mode": {
    "name": "ipython",
    "version": 3
   },
   "file_extension": ".py",
   "mimetype": "text/x-python",
   "name": "python",
   "nbconvert_exporter": "python",
   "pygments_lexer": "ipython3",
   "version": "3.8.5"
  },
  "toc": {
   "base_numbering": 1,
   "nav_menu": {},
   "number_sections": true,
   "sideBar": true,
   "skip_h1_title": false,
   "title_cell": "Índice",
   "title_sidebar": "Conteúdo",
   "toc_cell": false,
   "toc_position": {},
   "toc_section_display": true,
   "toc_window_display": false
  },
  "varInspector": {
   "cols": {
    "lenName": 16,
    "lenType": 16,
    "lenVar": 40
   },
   "kernels_config": {
    "python": {
     "delete_cmd_postfix": "",
     "delete_cmd_prefix": "del ",
     "library": "var_list.py",
     "varRefreshCmd": "print(var_dic_list())"
    },
    "r": {
     "delete_cmd_postfix": ") ",
     "delete_cmd_prefix": "rm(",
     "library": "var_list.r",
     "varRefreshCmd": "cat(var_dic_list()) "
    }
   },
   "types_to_exclude": [
    "module",
    "function",
    "builtin_function_or_method",
    "instance",
    "_Feature"
   ],
   "window_display": false
  }
 },
 "nbformat": 4,
 "nbformat_minor": 4
}
